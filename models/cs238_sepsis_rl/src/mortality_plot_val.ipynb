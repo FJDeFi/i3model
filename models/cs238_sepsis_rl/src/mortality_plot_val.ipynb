{
 "cells": [
  {
   "cell_type": "code",
   "execution_count": 1,
   "metadata": {},
   "outputs": [
    {
     "name": "stderr",
     "output_type": "stream",
     "text": [
      "Warning message:\n",
      "“Installed Rcpp (0.12.14) different from Rcpp used to build dplyr (0.12.13).\n",
      "Please reinstall dplyr to avoid random crashes or undefined behavior.”Loading tidyverse: ggplot2\n",
      "Loading tidyverse: tibble\n",
      "Loading tidyverse: tidyr\n",
      "Loading tidyverse: readr\n",
      "Loading tidyverse: purrr\n",
      "Loading tidyverse: dplyr\n",
      "Conflicts with tidy packages ---------------------------------------------------\n",
      "filter(): dplyr, stats\n",
      "lag():    dplyr, stats\n"
     ]
    }
   ],
   "source": [
    "library(tidyverse)"
   ]
  },
  {
   "cell_type": "code",
   "execution_count": 2,
   "metadata": {
    "scrolled": true
   },
   "outputs": [
    {
     "ename": "ERROR",
     "evalue": "Error: '../data/predicted_Q_physician_df_test.csv' does not exist in current working directory ('/Users/stephenpfohl/Documents/CS_238/project/src').\n",
     "output_type": "error",
     "traceback": [
      "Error: '../data/predicted_Q_physician_df_test.csv' does not exist in current working directory ('/Users/stephenpfohl/Documents/CS_238/project/src').\nTraceback:\n",
      "1. read_csv(paste0(data_path, \"predicted_Q_physician_df_test.csv\"))",
      "2. read_delimited(file, tokenizer, col_names = col_names, col_types = col_types, \n .     locale = locale, skip = skip, comment = comment, n_max = n_max, \n .     guess_max = guess_max, progress = progress)",
      "3. standardise_path(file)",
      "4. check_path(path)",
      "5. stop(\"'\", path, \"' does not exist\", if (!is_absolute_path(path)) paste0(\" in current working directory ('\", \n .     getwd(), \"')\"), \".\", call. = FALSE)"
     ]
    }
   ],
   "source": [
    "data_path <- '../data/'\n",
    "df <- read_csv(paste0(data_path, 'predicted_Q_physician_df_val.csv'))"
   ]
  },
  {
   "cell_type": "code",
   "execution_count": null,
   "metadata": {},
   "outputs": [],
   "source": [
    "head(df)"
   ]
  },
  {
   "cell_type": "code",
   "execution_count": null,
   "metadata": {},
   "outputs": [],
   "source": [
    "plot_df <- df %>% \n",
    "                mutate(bin_Q = floor(predicted_Q)) %>%\n",
    "                group_by(bin_Q) %>%\n",
    "                summarise(prop_dead = mean(hospital_expire_flag),\n",
    "                          sd_dead = sd(hospital_expire_flag)/sqrt(n()))\n",
    "\n",
    "ggplot(plot_df, aes(x = bin_Q,\n",
    "                   y = prop_dead)) + \n",
    "    geom_ribbon(aes( \n",
    "                  ymin = prop_dead - sd_dead,\n",
    "                  ymax = prop_dead + sd_dead), alpha = 0.2) +\n",
    "    geom_line() +\n",
    "    xlim(-15, 15) +\n",
    "    xlab('Estimated Q') + \n",
    "    ylab('Proportion Dead')"
   ]
  },
  {
   "cell_type": "code",
   "execution_count": null,
   "metadata": {},
   "outputs": [],
   "source": [
    "df %>% \n",
    "                ggplot(aes(predicted_Q,\n",
    "                            hospital_expire_flag)) + \n",
    "                geom_smooth(span = 0.1) +\n",
    "                geom_point()\n",
    "                xlim(-15, 15) +\n",
    "                xlab('Estimated Q') + \n",
    "                ylab('Proportion Dead')\n"
   ]
  },
  {
   "cell_type": "code",
   "execution_count": null,
   "metadata": {},
   "outputs": [],
   "source": [
    "# density or histogram\n",
    "df %>% \n",
    "    ggplot(aes(predicted_Q, fill = as.factor(hospital_expire_flag))) + \n",
    "    geom_histogram(alpha = 0.8) +\n",
    "#     geom_smooth(span = 0.1) +\n",
    "#     geom_point()\n",
    "    xlim(-15, 15)\n",
    "#     xlab('Estimated Q') + \n",
    "#     ylab('Proportion Dead')"
   ]
  },
  {
   "cell_type": "code",
   "execution_count": null,
   "metadata": {},
   "outputs": [],
   "source": [
    "library(lubridate)"
   ]
  },
  {
   "cell_type": "code",
   "execution_count": null,
   "metadata": {
    "scrolled": false
   },
   "outputs": [],
   "source": [
    "df %>%\n",
    "    group_by(subject_id) %>%\n",
    "    mutate(relative_time = difftime(interval_start_time, min(interval_start_time) + hours(24), units = 'hours')) %>%\n",
    "    ungroup() %>%\n",
    "    ggplot(aes(relative_time, predicted_Q, color = as.factor(hospital_expire_flag))) +\n",
    "    geom_smooth() + \n",
    "    xlab('Relative Hours') +\n",
    "    ylab('Predicted Q for Physician Policy') + \n",
    "    scale_color_discrete('Died in Hospital', labels = c('No', 'Yes'))"
   ]
  }
 ],
 "metadata": {
  "kernelspec": {
   "display_name": "R [conda env:r_env]",
   "language": "R",
   "name": "conda-env-r_env-r"
  },
  "language_info": {
   "codemirror_mode": "r",
   "file_extension": ".r",
   "mimetype": "text/x-r-source",
   "name": "R",
   "pygments_lexer": "r",
   "version": "3.3.2"
  }
 },
 "nbformat": 4,
 "nbformat_minor": 2
}
